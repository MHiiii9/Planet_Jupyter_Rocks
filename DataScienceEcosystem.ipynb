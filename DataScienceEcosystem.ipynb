{
 "cells": [
  {
   "cell_type": "markdown",
   "id": "1f3855cb",
   "metadata": {},
   "source": [
    "# Data Science Tools and Ecosystem"
   ]
  },
  {
   "cell_type": "markdown",
   "id": "1edbec94",
   "metadata": {},
   "source": [
    "In this notebook, Data Science Tools and Ecosystems are summarized."
   ]
  },
  {
   "cell_type": "markdown",
   "id": "3599ad3f",
   "metadata": {},
   "source": [
    "**Objectives:**\n",
    "- Examples of most popular languages used for Data Science\n",
    "- Examples of libraries most commonly used by Data Scientists\n",
    "- Examples of some popular open source development environment tools used by Data Scientists\n",
    "- Examples of some arithmetic expressions that can be done in Python\n",
    "- Overall demonstration of the capabilities of relevant tools and methods available to use in the field of data science"
   ]
  },
  {
   "cell_type": "markdown",
   "id": "0d39f636",
   "metadata": {},
   "source": [
    "Some of the most popular languages that Data Scientists use, are:\n",
    "1. Python\n",
    "2. R\n",
    "3. SQL\n",
    "4. Julia"
   ]
  },
  {
   "cell_type": "markdown",
   "id": "0f2df878",
   "metadata": {},
   "source": [
    "Some of the libraries most commonly used by Data Scientists, include:\n",
    "1. Pandas\n",
    "2. NumPy\n",
    "3. Matplotlib\n",
    "4. Tensorflow\n"
   ]
  },
  {
   "cell_type": "markdown",
   "id": "a803ee89",
   "metadata": {},
   "source": [
    "|Data Science Tools|\n",
    "|----------|\n",
    "|RStudio|\n",
    "|Apache Spark|\n",
    "|TensorFlow|"
   ]
  },
  {
   "cell_type": "markdown",
   "id": "23a46c12",
   "metadata": {},
   "source": [
    "### Below are a few examples of evaluating arithmetic expressions in Python:"
   ]
  },
  {
   "cell_type": "code",
   "execution_count": 17,
   "id": "04f9f03a",
   "metadata": {},
   "outputs": [
    {
     "data": {
      "text/plain": [
       "17"
      ]
     },
     "execution_count": 17,
     "metadata": {},
     "output_type": "execute_result"
    }
   ],
   "source": [
    "#This a simple arithmetic expression to multiply, then add integers:\n",
    "(3*4)+5"
   ]
  },
  {
   "cell_type": "code",
   "execution_count": 18,
   "id": "bd4e3a6c",
   "metadata": {},
   "outputs": [
    {
     "data": {
      "text/plain": [
       "3.3333333333333335"
      ]
     },
     "execution_count": 18,
     "metadata": {},
     "output_type": "execute_result"
    }
   ],
   "source": [
    "# This will convert 200 minutes into hours, by diving by 60:\n",
    "200 / 60"
   ]
  },
  {
   "cell_type": "markdown",
   "id": "fb2a589b",
   "metadata": {},
   "source": [
    "## Author\n",
    "Mario Hoffmann"
   ]
  }
 ],
 "metadata": {
  "kernelspec": {
   "display_name": "Python 3 (ipykernel)",
   "language": "python",
   "name": "python3"
  },
  "language_info": {
   "codemirror_mode": {
    "name": "ipython",
    "version": 3
   },
   "file_extension": ".py",
   "mimetype": "text/x-python",
   "name": "python",
   "nbconvert_exporter": "python",
   "pygments_lexer": "ipython3",
   "version": "3.11.4"
  }
 },
 "nbformat": 4,
 "nbformat_minor": 5
}
